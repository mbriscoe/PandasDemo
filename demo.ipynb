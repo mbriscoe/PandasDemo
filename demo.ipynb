{
 "cells": [
  {
   "cell_type": "code",
   "execution_count": null,
   "id": "632b3b4d",
   "metadata": {},
   "outputs": [],
   "source": [
    "import pandas as pd\n",
    "import numpy as np"
   ]
  },
  {
   "cell_type": "code",
   "execution_count": null,
   "id": "eb76378c",
   "metadata": {},
   "outputs": [],
   "source": [
    "# Load a CSV file into a dataframe\n",
    "df = pd.read_csv('data.csv')\n",
    "# Display the first few rows of the dataframe\n",
    "df.head()"
   ]
  },
  {
   "cell_type": "code",
   "execution_count": null,
   "id": "67d4917a",
   "metadata": {},
   "outputs": [],
   "source": [
    "df.shape"
   ]
  },
  {
   "cell_type": "code",
   "execution_count": null,
   "id": "22c3a828",
   "metadata": {},
   "outputs": [],
   "source": [
    "df.info()"
   ]
  },
  {
   "cell_type": "code",
   "execution_count": null,
   "id": "a4aaa752",
   "metadata": {},
   "outputs": [],
   "source": [
    "df.describe()"
   ]
  },
  {
   "cell_type": "code",
   "execution_count": null,
   "id": "c3470208",
   "metadata": {},
   "outputs": [],
   "source": [
    "df['Sales']"
   ]
  },
  {
   "cell_type": "code",
   "execution_count": null,
   "id": "9b1a4354",
   "metadata": {},
   "outputs": [],
   "source": [
    "df[['Sales', 'Profit']]"
   ]
  },
  {
   "cell_type": "code",
   "execution_count": null,
   "id": "1e4c9ed2",
   "metadata": {},
   "outputs": [],
   "source": [
    "row = df.loc[2]\n",
    "row"
   ]
  },
  {
   "cell_type": "code",
   "execution_count": null,
   "id": "1e00e04b",
   "metadata": {},
   "outputs": [],
   "source": [
    "subset = df.iloc[:3]\n",
    "subset"
   ]
  },
  {
   "cell_type": "code",
   "execution_count": null,
   "id": "629090b2",
   "metadata": {},
   "outputs": [],
   "source": [
    "high_sales = df[df['Sales'] > 3000]\n",
    "high_sales"
   ]
  },
  {
   "cell_type": "code",
   "execution_count": null,
   "id": "ac15feda",
   "metadata": {},
   "outputs": [],
   "source": [
    "high_sales_profit = df[(df['Sales'] > 3000) & (df['Profit'] > 400)]\n",
    "high_sales_profit"
   ]
  },
  {
   "cell_type": "code",
   "execution_count": null,
   "id": "e4c45613",
   "metadata": {},
   "outputs": [],
   "source": [
    "df.tail()"
   ]
  },
  {
   "cell_type": "code",
   "execution_count": null,
   "id": "627437ac",
   "metadata": {},
   "outputs": [],
   "source": [
    "df['Cost'] = df['Sales'] - df['Profit']\n",
    "df.head()"
   ]
  },
  {
   "cell_type": "code",
   "execution_count": null,
   "id": "e41f24f5",
   "metadata": {},
   "outputs": [],
   "source": [
    "df['Sales'] = df['Sales'] * 0.5\n",
    "df"
   ]
  },
  {
   "cell_type": "code",
   "execution_count": null,
   "id": "0af7fdcf",
   "metadata": {},
   "outputs": [],
   "source": [
    "df_without_cost = df.drop(columns=['Cost'])\n",
    "df_without_cost"
   ]
  },
  {
   "cell_type": "code",
   "execution_count": null,
   "id": "8a6cc72f",
   "metadata": {},
   "outputs": [],
   "source": [
    "df_renamed = df.rename(columns={'Sales': 'Total_Sales'})\n",
    "df_renamed"
   ]
  },
  {
   "cell_type": "code",
   "execution_count": null,
   "id": "52614aef",
   "metadata": {},
   "outputs": [],
   "source": [
    "df_renamed_multiple = df.rename(columns={'Sales': 'Total_sales', 'Profit': 'Net_Profit'})\n",
    "df_renamed_multiple"
   ]
  },
  {
   "cell_type": "code",
   "execution_count": null,
   "id": "eb82a1d4",
   "metadata": {},
   "outputs": [],
   "source": [
    "df_region_sales = df.groupby('Region')['Sales'].sum()\n",
    "df_region_sales"
   ]
  },
  {
   "cell_type": "code",
   "execution_count": null,
   "id": "9e7c6f79",
   "metadata": {},
   "outputs": [],
   "source": [
    "aggregrate_sales = df.groupby('Region')['Sales'].agg(['sum', 'mean', 'count'])\n",
    "aggregrate_sales"
   ]
  },
  {
   "cell_type": "code",
   "execution_count": null,
   "id": "f6081690",
   "metadata": {},
   "outputs": [],
   "source": [
    "df.isnull().sum()"
   ]
  },
  {
   "cell_type": "code",
   "execution_count": null,
   "id": "f29163ae",
   "metadata": {},
   "outputs": [],
   "source": [
    "a = df.select_dtypes('number')\n",
    "\n",
    "b = df.select_dtypes('object')\n",
    "\n",
    "df[a.columns] = a.fillna(a.mean())\n",
    "\n",
    "df[b.columns] = b.fillna(b.agg(lambda x: x.mode().values[0]))\n",
    "\n",
    "df"
   ]
  },
  {
   "cell_type": "code",
   "execution_count": null,
   "id": "0eafff56",
   "metadata": {},
   "outputs": [],
   "source": [
    "df.isnull().sum()"
   ]
  },
  {
   "cell_type": "code",
   "execution_count": null,
   "id": "13470b26",
   "metadata": {},
   "outputs": [],
   "source": [
    "df.to_csv('clean_data.csv', index=False)"
   ]
  }
 ],
 "metadata": {
  "kernelspec": {
   "display_name": ".venv",
   "language": "python",
   "name": "python3"
  },
  "language_info": {
   "codemirror_mode": {
    "name": "ipython",
    "version": 3
   },
   "file_extension": ".py",
   "mimetype": "text/x-python",
   "name": "python",
   "nbconvert_exporter": "python",
   "pygments_lexer": "ipython3",
   "version": "3.12.10"
  }
 },
 "nbformat": 4,
 "nbformat_minor": 5
}
