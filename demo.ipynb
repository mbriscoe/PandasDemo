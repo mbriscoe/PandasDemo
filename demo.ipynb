{
 "cells": [
  {
   "cell_type": "markdown",
   "id": "3197046f",
   "metadata": {},
   "source": [
    "# Pandas Demo"
   ]
  },
  {
   "cell_type": "code",
   "execution_count": null,
   "id": "632b3b4d",
   "metadata": {},
   "outputs": [],
   "source": [
    "import pandas as pd"
   ]
  },
  {
   "cell_type": "markdown",
   "id": "1415152f",
   "metadata": {},
   "source": [
    "## Create a simple Series"
   ]
  },
  {
   "cell_type": "code",
   "execution_count": null,
   "id": "f5693f88",
   "metadata": {},
   "outputs": [],
   "source": [
    "s = pd.Series([10, 20, 30, 40])\n",
    "\n",
    "print(s)\n"
   ]
  },
  {
   "cell_type": "markdown",
   "id": "5cb331f6",
   "metadata": {},
   "source": [
    "## Create a DataFrame"
   ]
  },
  {
   "cell_type": "code",
   "execution_count": null,
   "id": "4003ce49",
   "metadata": {},
   "outputs": [],
   "source": [
    "data = {\n",
    "    'Name': ['Alice', 'Bob', 'Charlie'],\n",
    "    'Age': [25, 30, 35],\n",
    "    'City': ['London', 'Paris', 'Berlin']\n",
    "}\n",
    "\n",
    "df = pd.DataFrame(data)\n",
    "print(df)\n"
   ]
  },
  {
   "cell_type": "markdown",
   "id": "b8b50704",
   "metadata": {},
   "source": [
    "## Load a CSV file into a dataframe"
   ]
  },
  {
   "cell_type": "code",
   "execution_count": null,
   "id": "eb76378c",
   "metadata": {},
   "outputs": [],
   "source": [
    "df = pd.read_csv('data.csv')\n",
    "\n",
    "# Display the first few rows of the dataframe\n",
    "df.head()"
   ]
  },
  {
   "cell_type": "markdown",
   "id": "f5442220",
   "metadata": {},
   "source": [
    "## Display the dataframe info"
   ]
  },
  {
   "cell_type": "code",
   "execution_count": null,
   "id": "67d4917a",
   "metadata": {},
   "outputs": [],
   "source": [
    "df = pd.read_csv('data.csv')\n",
    "\n",
    "#print(f\"head():\\n {df.head()}\\n\")           # First 5 rows\n",
    "\n",
    "#print(f\"tail():\\n {df.tail()}\\n\")           # Last 5 rows\n",
    "\n",
    "#print(f\"shape:\\n {df.shape}\\n\")             # (rows, columns)\n",
    "\n",
    "#print(f\"columns:\\n {df.columns}\\n\")         # Column names\n",
    "\n",
    "#print(f\"describe():\\n {df.describe()}\\n\")   # Statistics summary\n",
    "\n",
    "print(df.info())                            # Summary info\n"
   ]
  },
  {
   "cell_type": "markdown",
   "id": "122a10b8",
   "metadata": {},
   "source": [
    "## Display a single column"
   ]
  },
  {
   "cell_type": "code",
   "execution_count": null,
   "id": "c3470208",
   "metadata": {},
   "outputs": [],
   "source": [
    "df['Sales']"
   ]
  },
  {
   "cell_type": "markdown",
   "id": "ede383e9",
   "metadata": {},
   "source": [
    "## Display multiple columns"
   ]
  },
  {
   "cell_type": "code",
   "execution_count": null,
   "id": "9b1a4354",
   "metadata": {},
   "outputs": [],
   "source": [
    "df[['Sales', 'Profit']]"
   ]
  },
  {
   "cell_type": "markdown",
   "id": "b3803ec7",
   "metadata": {},
   "source": [
    "## Display row by location"
   ]
  },
  {
   "cell_type": "code",
   "execution_count": null,
   "id": "1e4c9ed2",
   "metadata": {},
   "outputs": [],
   "source": [
    "row = df.loc[[4,5],['Product_Name']]\n",
    "row"
   ]
  },
  {
   "cell_type": "markdown",
   "id": "fbb85fa2",
   "metadata": {},
   "source": [
    "## Display multiple rows by location"
   ]
  },
  {
   "cell_type": "code",
   "execution_count": null,
   "id": "1e00e04b",
   "metadata": {},
   "outputs": [],
   "source": [
    "subset = df.iloc[:3]\n",
    "subset"
   ]
  },
  {
   "cell_type": "markdown",
   "id": "f7a443b0",
   "metadata": {},
   "source": [
    "## Filter dataframe"
   ]
  },
  {
   "cell_type": "code",
   "execution_count": null,
   "id": "629090b2",
   "metadata": {},
   "outputs": [],
   "source": [
    "high_sales = df[df['Sales'] > 3000]\n",
    "high_sales"
   ]
  },
  {
   "cell_type": "markdown",
   "id": "12788d5f",
   "metadata": {},
   "source": [
    "## Filter dataframe with multiple arguments"
   ]
  },
  {
   "cell_type": "code",
   "execution_count": null,
   "id": "ac15feda",
   "metadata": {},
   "outputs": [],
   "source": [
    "high_sales_profit = df[(df['Sales'] > 3000) & (df['Profit'] > 400)]\n",
    "high_sales_profit"
   ]
  },
  {
   "cell_type": "markdown",
   "id": "940fdbc0",
   "metadata": {},
   "source": [
    "## Add a column to the dataset"
   ]
  },
  {
   "cell_type": "code",
   "execution_count": null,
   "id": "627437ac",
   "metadata": {},
   "outputs": [],
   "source": [
    "df['Cost'] = df['Sales'] - df['Profit']\n",
    "df.head()"
   ]
  },
  {
   "cell_type": "markdown",
   "id": "f67c3f77",
   "metadata": {},
   "source": [
    "## Manipulate existing data"
   ]
  },
  {
   "cell_type": "code",
   "execution_count": null,
   "id": "e41f24f5",
   "metadata": {},
   "outputs": [],
   "source": [
    "df['Sales'] = df['Sales'] * 0.5\n",
    "df"
   ]
  },
  {
   "cell_type": "markdown",
   "id": "7075765d",
   "metadata": {},
   "source": [
    "## Remove a column from the dataset"
   ]
  },
  {
   "cell_type": "code",
   "execution_count": null,
   "id": "0af7fdcf",
   "metadata": {},
   "outputs": [],
   "source": [
    "df_without_cost = df.drop(columns=['Cost'])\n",
    "df_without_cost"
   ]
  },
  {
   "cell_type": "markdown",
   "id": "31e856ac",
   "metadata": {},
   "source": [
    "## Rename a column"
   ]
  },
  {
   "cell_type": "code",
   "execution_count": null,
   "id": "8a6cc72f",
   "metadata": {},
   "outputs": [],
   "source": [
    "df_renamed = df.rename(columns={'Sales': 'Total_Sales'})\n",
    "df_renamed"
   ]
  },
  {
   "cell_type": "markdown",
   "id": "5225e185",
   "metadata": {},
   "source": [
    "## Rename multiple columns"
   ]
  },
  {
   "cell_type": "code",
   "execution_count": null,
   "id": "52614aef",
   "metadata": {},
   "outputs": [],
   "source": [
    "df_renamed_multiple = df.rename(columns={'Sales': 'Total_sales', 'Profit': 'Net_Profit'})\n",
    "df_renamed_multiple"
   ]
  },
  {
   "cell_type": "markdown",
   "id": "75f26e3b",
   "metadata": {},
   "source": [
    "## Use built in Pandas functions"
   ]
  },
  {
   "cell_type": "code",
   "execution_count": null,
   "id": "eb82a1d4",
   "metadata": {},
   "outputs": [],
   "source": [
    "df_region_sales = df.groupby('Region')['Sales'].sum()\n",
    "df_region_sales"
   ]
  },
  {
   "cell_type": "markdown",
   "id": "2d4a6410",
   "metadata": {},
   "source": [
    "## Aggregate data"
   ]
  },
  {
   "cell_type": "code",
   "execution_count": null,
   "id": "9e7c6f79",
   "metadata": {},
   "outputs": [],
   "source": [
    "aggregrate_sales = df.groupby('Region')['Sales'].agg(['sum', 'mean', 'count'])\n",
    "aggregrate_sales"
   ]
  },
  {
   "cell_type": "markdown",
   "id": "03a2365a",
   "metadata": {},
   "source": [
    "## Check for missing data"
   ]
  },
  {
   "cell_type": "code",
   "execution_count": null,
   "id": "f6081690",
   "metadata": {},
   "outputs": [],
   "source": [
    "df.isnull().sum()"
   ]
  },
  {
   "cell_type": "markdown",
   "id": "b2293653",
   "metadata": {},
   "source": [
    "## Replace missing data"
   ]
  },
  {
   "cell_type": "code",
   "execution_count": null,
   "id": "f29163ae",
   "metadata": {},
   "outputs": [],
   "source": [
    "a = df.select_dtypes('number')\n",
    "\n",
    "b = df.select_dtypes('object')\n",
    "\n",
    "df[a.columns] = a.fillna(a.mean())\n",
    "\n",
    "df[b.columns] = b.fillna(b.agg(lambda x: x.mode().values[0]))\n",
    "\n",
    "df"
   ]
  },
  {
   "cell_type": "markdown",
   "id": "4d6e8a21",
   "metadata": {},
   "source": [
    "## Re-check for missing data"
   ]
  },
  {
   "cell_type": "code",
   "execution_count": null,
   "id": "0eafff56",
   "metadata": {},
   "outputs": [],
   "source": [
    "df.isnull().sum()"
   ]
  },
  {
   "cell_type": "markdown",
   "id": "c45fcf34",
   "metadata": {},
   "source": [
    "## Export dataset to a csv file"
   ]
  },
  {
   "cell_type": "code",
   "execution_count": null,
   "id": "13470b26",
   "metadata": {},
   "outputs": [],
   "source": [
    "df.to_csv('clean_data.csv', index=False)"
   ]
  }
 ],
 "metadata": {
  "kernelspec": {
   "display_name": ".venv",
   "language": "python",
   "name": "python3"
  },
  "language_info": {
   "codemirror_mode": {
    "name": "ipython",
    "version": 3
   },
   "file_extension": ".py",
   "mimetype": "text/x-python",
   "name": "python",
   "nbconvert_exporter": "python",
   "pygments_lexer": "ipython3",
   "version": "3.12.10"
  }
 },
 "nbformat": 4,
 "nbformat_minor": 5
}
