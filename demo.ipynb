{
 "cells": [
  {
   "cell_type": "markdown",
   "id": "3197046f",
   "metadata": {},
   "source": [
    "# Pandas Demo"
   ]
  },
  {
   "cell_type": "code",
   "execution_count": null,
   "id": "632b3b4d",
   "metadata": {},
   "outputs": [],
   "source": [
    "import pandas as pd"
   ]
  },
  {
   "cell_type": "markdown",
   "id": "855cd09b",
   "metadata": {},
   "source": [
    "### Explanation\n",
    "- `import pandas as pd` imports the pandas library and gives it the alias `pd`.\n",
    "- Pandas is a powerful Python library for data manipulation and analysis.\n"
   ]
  },
  {
   "cell_type": "markdown",
   "id": "1415152f",
   "metadata": {},
   "source": [
    "## Create a simple Series"
   ]
  },
  {
   "cell_type": "code",
   "execution_count": null,
   "id": "f5693f88",
   "metadata": {},
   "outputs": [],
   "source": [
    "s = pd.Series([10, 20, 30, 40])\n",
    "\n",
    "print(s)\n"
   ]
  },
  {
   "cell_type": "markdown",
   "id": "ed62256b",
   "metadata": {},
   "source": [
    "### Explanation\n",
    "- `s = pd.Series([10, 20, 30, 40])` creates a pandas Series object with four integer values.\n",
    "- A Series is a one-dimensional labeled array capable of holding any data type.\n",
    "- `print(s)` displays the contents of the Series in the output."
   ]
  },
  {
   "cell_type": "markdown",
   "id": "5cb331f6",
   "metadata": {},
   "source": [
    "## Create a DataFrame"
   ]
  },
  {
   "cell_type": "code",
   "execution_count": null,
   "id": "4003ce49",
   "metadata": {},
   "outputs": [],
   "source": [
    "data = {\n",
    "    'Name': ['Alice', 'Bob', 'Charlie'],\n",
    "    'Age': [25, 30, 35],\n",
    "    'City': ['London', 'Paris', 'Berlin']\n",
    "}\n",
    "\n",
    "df = pd.DataFrame(data)\n",
    "print(df)\n"
   ]
  },
  {
   "cell_type": "markdown",
   "id": "90a2a0e2",
   "metadata": {},
   "source": [
    "### Explanation\n",
    "- The `data` dictionary contains three keys: 'Name', 'Age', and 'City', each with a list of values.\n",
    "- `df = pd.DataFrame(data)` creates a pandas DataFrame from the dictionary, organizing the data into columns.\n",
    "- `print(df)` displays the DataFrame, showing the tabular structure."
   ]
  },
  {
   "cell_type": "markdown",
   "id": "b8b50704",
   "metadata": {},
   "source": [
    "## Load a CSV file into a dataframe"
   ]
  },
  {
   "cell_type": "code",
   "execution_count": null,
   "id": "eb76378c",
   "metadata": {},
   "outputs": [],
   "source": [
    "df = pd.read_csv('data.csv')\n",
    "\n",
    "# Display the first few rows of the dataframe\n",
    "df.head()"
   ]
  },
  {
   "cell_type": "markdown",
   "id": "bfdcb3d8",
   "metadata": {},
   "source": [
    "### Explanation\n",
    "- `df = pd.read_csv('data.csv')` loads data from the CSV file named 'data.csv' into a pandas DataFrame.\n",
    "- `df.head()` displays the first five rows of the DataFrame, giving a quick overview of the data."
   ]
  },
  {
   "cell_type": "markdown",
   "id": "f5442220",
   "metadata": {},
   "source": [
    "## Display the dataframe info"
   ]
  },
  {
   "cell_type": "code",
   "execution_count": null,
   "id": "67d4917a",
   "metadata": {},
   "outputs": [],
   "source": [
    "df = pd.read_csv('data.csv')\n",
    "\n",
    "print(f\"head():\\n {df.head()}\\n\")           # First 5 rows\n",
    "\n",
    "#print(f\"tail():\\n {df.tail()}\\n\")           # Last 5 rows\n",
    "\n",
    "#print(f\"shape:\\n {df.shape}\\n\")             # (rows, columns)\n",
    "\n",
    "#print(f\"columns:\\n {df.columns}\\n\")         # Column names\n",
    "\n",
    "#print(f\"describe():\\n {df.describe()}\\n\")   # Statistics summary\n",
    "\n",
    "#print(df.info())                            # Summary info\n"
   ]
  },
  {
   "cell_type": "markdown",
   "id": "09479257",
   "metadata": {},
   "source": [
    "### Explanation\n",
    "- `df = pd.read_csv('data.csv')` loads the CSV file into a DataFrame.\n",
    "- The commented lines show useful DataFrame methods:\n",
    "  - `df.head()` displays the first five rows.\n",
    "  - `df.tail()` displays the last five rows.\n",
    "  - `df.shape` returns the dimensions of the DataFrame (rows, columns)."
   ]
  },
  {
   "cell_type": "markdown",
   "id": "122a10b8",
   "metadata": {},
   "source": [
    "## Display a single column"
   ]
  },
  {
   "cell_type": "code",
   "execution_count": null,
   "id": "c3470208",
   "metadata": {},
   "outputs": [],
   "source": [
    "df['Sales']"
   ]
  },
  {
   "cell_type": "markdown",
   "id": "9abe877b",
   "metadata": {},
   "source": [
    "### Explanation\n",
    "- `df['Sales']` selects and displays the 'Sales' column from the DataFrame.\n",
    "- This is useful for analyzing or visualizing a single variable."
   ]
  },
  {
   "cell_type": "markdown",
   "id": "ede383e9",
   "metadata": {},
   "source": [
    "## Display multiple columns"
   ]
  },
  {
   "cell_type": "code",
   "execution_count": null,
   "id": "9b1a4354",
   "metadata": {},
   "outputs": [],
   "source": [
    "df[['Sales', 'Profit']]"
   ]
  },
  {
   "cell_type": "markdown",
   "id": "e437e853",
   "metadata": {},
   "source": [
    "### Explanation\n",
    "- `df[['Sales', 'Profit']]` selects and displays both 'Sales' and 'Profit' columns.\n",
    "- This allows you to compare multiple variables side by side."
   ]
  },
  {
   "cell_type": "markdown",
   "id": "b3803ec7",
   "metadata": {},
   "source": [
    "## Display row by location"
   ]
  },
  {
   "cell_type": "code",
   "execution_count": null,
   "id": "1e4c9ed2",
   "metadata": {},
   "outputs": [],
   "source": [
    "row = df.loc[[4,5],['Product_Name']]\n",
    "row"
   ]
  },
  {
   "cell_type": "markdown",
   "id": "5fee0406",
   "metadata": {},
   "source": [
    "### Explanation\n",
    "- `df.loc[[4,5],['Product_Name']]` selects rows 4 and 5 and only the 'Product_Name' column.\n",
    "- `.loc` is used for label-based indexing of rows and columns."
   ]
  },
  {
   "cell_type": "markdown",
   "id": "fbb85fa2",
   "metadata": {},
   "source": [
    "## Display multiple rows by location"
   ]
  },
  {
   "cell_type": "code",
   "execution_count": null,
   "id": "1e00e04b",
   "metadata": {},
   "outputs": [],
   "source": [
    "subset = df.iloc[:3]\n",
    "subset"
   ]
  },
  {
   "cell_type": "markdown",
   "id": "ad97f607",
   "metadata": {},
   "source": [
    "### Explanation\n",
    "- `df.iloc[:3]` selects the first three rows of the DataFrame.\n",
    "- `.iloc` is used for integer-based indexing."
   ]
  },
  {
   "cell_type": "markdown",
   "id": "f7a443b0",
   "metadata": {},
   "source": [
    "## Filter dataframe"
   ]
  },
  {
   "cell_type": "code",
   "execution_count": null,
   "id": "629090b2",
   "metadata": {},
   "outputs": [],
   "source": [
    "high_sales = df[df['Sales'] > 3000]\n",
    "high_sales"
   ]
  },
  {
   "cell_type": "markdown",
   "id": "3923d653",
   "metadata": {},
   "source": [
    "### Explanation\n",
    "- `df[df['Sales'] > 3000]` filters the DataFrame to show only rows where 'Sales' is greater than 3000.\n",
    "- This is useful for focusing on high-value sales data."
   ]
  },
  {
   "cell_type": "markdown",
   "id": "12788d5f",
   "metadata": {},
   "source": [
    "## Filter dataframe with multiple arguments"
   ]
  },
  {
   "cell_type": "code",
   "execution_count": null,
   "id": "ac15feda",
   "metadata": {},
   "outputs": [],
   "source": [
    "high_sales_profit = df[(df['Sales'] > 3000) & (df['Profit'] > 400)]\n",
    "high_sales_profit"
   ]
  },
  {
   "cell_type": "markdown",
   "id": "a476f03e",
   "metadata": {},
   "source": [
    "### Explanation\n",
    "- `df[(df['Sales'] > 3000) & (df['Profit'] > 400)]` filters rows where both 'Sales' > 3000 and 'Profit' > 400.\n",
    "- The `&` operator combines multiple conditions."
   ]
  },
  {
   "cell_type": "markdown",
   "id": "940fdbc0",
   "metadata": {},
   "source": [
    "## Add a column to the dataset"
   ]
  },
  {
   "cell_type": "code",
   "execution_count": null,
   "id": "627437ac",
   "metadata": {},
   "outputs": [],
   "source": [
    "df['Cost'] = df['Sales'] - df['Profit']\n",
    "df.head()"
   ]
  },
  {
   "cell_type": "markdown",
   "id": "8d6866cb",
   "metadata": {},
   "source": [
    "### Explanation\n",
    "- `df['Cost'] = df['Sales'] - df['Profit']` creates a new column 'Cost' by subtracting 'Profit' from 'Sales'.\n",
    "- This helps analyze the cost associated with each sale."
   ]
  },
  {
   "cell_type": "markdown",
   "id": "f67c3f77",
   "metadata": {},
   "source": [
    "## Manipulate existing data"
   ]
  },
  {
   "cell_type": "code",
   "execution_count": null,
   "id": "e41f24f5",
   "metadata": {},
   "outputs": [],
   "source": [
    "df['Sales'] = df['Sales'] * 0.5\n",
    "df"
   ]
  },
  {
   "cell_type": "markdown",
   "id": "f492826e",
   "metadata": {},
   "source": [
    "### Explanation\n",
    "- `df['Sales'] = df['Sales'] * 0.5` updates the 'Sales' column by multiplying each value by 0.5.\n",
    "- This could represent a discount or adjustment to sales figures."
   ]
  },
  {
   "cell_type": "markdown",
   "id": "7075765d",
   "metadata": {},
   "source": [
    "## Remove a column from the dataset"
   ]
  },
  {
   "cell_type": "code",
   "execution_count": null,
   "id": "0af7fdcf",
   "metadata": {},
   "outputs": [],
   "source": [
    "df_without_cost = df.drop(columns=['Cost'])\n",
    "df_without_cost"
   ]
  },
  {
   "cell_type": "markdown",
   "id": "820be4f9",
   "metadata": {},
   "source": [
    "### Explanation\n",
    "- `df.drop(columns=['Cost'])` removes the 'Cost' column from the DataFrame.\n",
    "- Useful for simplifying the dataset or removing unnecessary data."
   ]
  },
  {
   "cell_type": "markdown",
   "id": "31e856ac",
   "metadata": {},
   "source": [
    "## Rename a column"
   ]
  },
  {
   "cell_type": "code",
   "execution_count": null,
   "id": "8a6cc72f",
   "metadata": {},
   "outputs": [],
   "source": [
    "df_renamed = df.rename(columns={'Sales': 'Total_Sales'})\n",
    "df_renamed"
   ]
  },
  {
   "cell_type": "markdown",
   "id": "9ad466a0",
   "metadata": {},
   "source": [
    "### Explanation\n",
    "- `df.rename(columns={'Sales': 'Total_Sales'})` renames the 'Sales' column to 'Total_Sales'.\n",
    "- Renaming columns can make the dataset more readable or match specific requirements."
   ]
  },
  {
   "cell_type": "markdown",
   "id": "5225e185",
   "metadata": {},
   "source": [
    "## Rename multiple columns"
   ]
  },
  {
   "cell_type": "code",
   "execution_count": null,
   "id": "52614aef",
   "metadata": {},
   "outputs": [],
   "source": [
    "df_renamed_multiple = df.rename(columns={'Sales': 'Total_sales', 'Profit': 'Net_Profit'})\n",
    "df_renamed_multiple"
   ]
  },
  {
   "cell_type": "markdown",
   "id": "00dd24f1",
   "metadata": {},
   "source": [
    "### Explanation\n",
    "- `df.rename(columns={'Sales': 'Total_sales', 'Profit': 'Net_Profit'})` renames both 'Sales' and 'Profit' columns.\n",
    "- This is useful for customizing column names for clarity or specific requirements."
   ]
  },
  {
   "cell_type": "markdown",
   "id": "75f26e3b",
   "metadata": {},
   "source": [
    "## Use built in Pandas functions"
   ]
  },
  {
   "cell_type": "code",
   "execution_count": null,
   "id": "eb82a1d4",
   "metadata": {},
   "outputs": [],
   "source": [
    "df_region_sales = df.groupby('Region')['Sales'].sum()\n",
    "df_region_sales"
   ]
  },
  {
   "cell_type": "markdown",
   "id": "338fc0a2",
   "metadata": {},
   "source": [
    "### Explanation\n",
    "- `df.groupby('Region')['Sales'].sum()` groups the data by 'Region' and calculates the total sales for each region.\n",
    "- Grouping and aggregation are powerful tools for summarizing data."
   ]
  },
  {
   "cell_type": "markdown",
   "id": "2d4a6410",
   "metadata": {},
   "source": [
    "## Aggregate data"
   ]
  },
  {
   "cell_type": "code",
   "execution_count": null,
   "id": "9e7c6f79",
   "metadata": {},
   "outputs": [],
   "source": [
    "aggregrate_sales = df.groupby('Region')['Sales'].agg(['sum', 'mean', 'count'])\n",
    "aggregrate_sales"
   ]
  },
  {
   "cell_type": "markdown",
   "id": "d14c6799",
   "metadata": {},
   "source": [
    "### Explanation\n",
    "- `df.groupby('Region')['Sales'].agg(['sum', 'mean', 'count'])` computes sum, mean, and count of sales for each region.\n",
    "- This provides a more detailed summary of the data."
   ]
  },
  {
   "cell_type": "markdown",
   "id": "03a2365a",
   "metadata": {},
   "source": [
    "## Check for missing data"
   ]
  },
  {
   "cell_type": "code",
   "execution_count": null,
   "id": "f6081690",
   "metadata": {},
   "outputs": [],
   "source": [
    "df.isnull().sum()"
   ]
  },
  {
   "cell_type": "markdown",
   "id": "1b8e120c",
   "metadata": {},
   "source": [
    "### Explanation\n",
    "- `df.isnull().sum()` counts the number of missing (null) values in each column.\n",
    "- This helps identify columns that may need cleaning or imputation."
   ]
  },
  {
   "cell_type": "markdown",
   "id": "b2293653",
   "metadata": {},
   "source": [
    "## Replace missing data"
   ]
  },
  {
   "cell_type": "code",
   "execution_count": null,
   "id": "f29163ae",
   "metadata": {},
   "outputs": [],
   "source": [
    "a = df.select_dtypes('number')\n",
    "\n",
    "b = df.select_dtypes('object')\n",
    "\n",
    "df[a.columns] = a.fillna(a.mean())\n",
    "\n",
    "df[b.columns] = b.fillna(b.agg(lambda x: x.mode().values[0]))\n",
    "\n",
    "df"
   ]
  },
  {
   "cell_type": "markdown",
   "id": "4d0a267b",
   "metadata": {},
   "source": [
    "### Explanation\n",
    "- `df.select_dtypes('number')` selects numeric columns; `df.select_dtypes('object')` selects object (string) columns.\n",
    "- Numeric columns are filled with their mean value; object columns are filled with their mode (most frequent value).\n",
    "- This process helps clean the dataset by handling missing values."
   ]
  },
  {
   "cell_type": "markdown",
   "id": "4d6e8a21",
   "metadata": {},
   "source": [
    "## Re-check for missing data"
   ]
  },
  {
   "cell_type": "code",
   "execution_count": null,
   "id": "0eafff56",
   "metadata": {},
   "outputs": [],
   "source": [
    "df.isnull().sum()"
   ]
  },
  {
   "cell_type": "markdown",
   "id": "e6cc928a",
   "metadata": {},
   "source": [
    "### Explanation\n",
    "- `df.isnull().sum()` is run again to confirm that missing values have been handled.\n",
    "- A result of zero means all missing data has been filled."
   ]
  },
  {
   "cell_type": "markdown",
   "id": "c45fcf34",
   "metadata": {},
   "source": [
    "## Export dataset to a csv file"
   ]
  },
  {
   "cell_type": "code",
   "execution_count": null,
   "id": "13470b26",
   "metadata": {},
   "outputs": [],
   "source": [
    "df.to_csv('clean_data.csv', index=False)"
   ]
  },
  {
   "cell_type": "markdown",
   "id": "65670400",
   "metadata": {},
   "source": [
    "### Explanation\n",
    "- `df.to_csv('clean_data.csv', index=False)` saves the cleaned DataFrame to a new CSV file named 'clean_data.csv'.\n",
    "- `index=False` ensures row indices are not included in the output file."
   ]
  }
 ],
 "metadata": {
  "kernelspec": {
   "display_name": ".venv",
   "language": "python",
   "name": "python3"
  },
  "language_info": {
   "codemirror_mode": {
    "name": "ipython",
    "version": 3
   },
   "file_extension": ".py",
   "mimetype": "text/x-python",
   "name": "python",
   "nbconvert_exporter": "python",
   "pygments_lexer": "ipython3",
   "version": "3.12.10"
  }
 },
 "nbformat": 4,
 "nbformat_minor": 5
}
