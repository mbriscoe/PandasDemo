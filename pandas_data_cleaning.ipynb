{
 "cells": [
  {
   "cell_type": "markdown",
   "id": "0bd2a921",
   "metadata": {},
   "source": [
    "# 5 Examples of Data Cleaning with Pandas and Visualizations\n",
    "This notebook demonstrates five common data cleaning techniques using pandas, with generated data and visualizations."
   ]
  },
  {
   "cell_type": "code",
   "execution_count": null,
   "id": "b158ffef",
   "metadata": {},
   "outputs": [],
   "source": [
    "import pandas as pd\n",
    "import numpy as np\n",
    "import matplotlib.pyplot as plt"
   ]
  },
  {
   "cell_type": "markdown",
   "id": "c59d075f",
   "metadata": {},
   "source": [
    "## 1. Handling Missing Values"
   ]
  },
  {
   "cell_type": "code",
   "execution_count": 2,
   "id": "06a65d6a",
   "metadata": {},
   "outputs": [
    {
     "ename": "NameError",
     "evalue": "name 'pd' is not defined",
     "output_type": "error",
     "traceback": [
      "\u001b[31m---------------------------------------------------------------------------\u001b[39m",
      "\u001b[31mNameError\u001b[39m                                 Traceback (most recent call last)",
      "\u001b[36mCell\u001b[39m\u001b[36m \u001b[39m\u001b[32mIn[2]\u001b[39m\u001b[32m, line 2\u001b[39m\n\u001b[32m      1\u001b[39m \u001b[38;5;66;03m# Generate data with missing values\u001b[39;00m\n\u001b[32m----> \u001b[39m\u001b[32m2\u001b[39m df = \u001b[43mpd\u001b[49m.DataFrame({\n\u001b[32m      3\u001b[39m     \u001b[33m'\u001b[39m\u001b[33mA\u001b[39m\u001b[33m'\u001b[39m: np.random.randn(\u001b[32m100\u001b[39m),\n\u001b[32m      4\u001b[39m     \u001b[33m'\u001b[39m\u001b[33mB\u001b[39m\u001b[33m'\u001b[39m: np.random.choice([np.nan, \u001b[32m1\u001b[39m, \u001b[32m2\u001b[39m, \u001b[32m3\u001b[39m], size=\u001b[32m100\u001b[39m)\n\u001b[32m      5\u001b[39m })\n\u001b[32m      7\u001b[39m \u001b[38;5;66;03m# Visualize missing values\u001b[39;00m\n\u001b[32m      8\u001b[39m plt.figure(figsize=(\u001b[32m6\u001b[39m,\u001b[32m2\u001b[39m))\n",
      "\u001b[31mNameError\u001b[39m: name 'pd' is not defined"
     ]
    }
   ],
   "source": [
    "# Generate data with missing values\n",
    "df = pd.DataFrame({\n",
    "    'A': np.random.randn(100),\n",
    "    'B': np.random.choice([np.nan, 1, 2, 3], size=100)\n",
    "})\n",
    "\n",
    "# Visualize missing values\n",
    "plt.figure(figsize=(6,2))\n",
    "plt.title(\"Missing Values Before Cleaning\")\n",
    "plt.bar(['A', 'B'], [df['A'].isna().sum(), df['B'].isna().sum()])\n",
    "plt.show()\n",
    "\n",
    "# Fill missing values\n",
    "df['B'] = df['B'].fillna(df['B'].mean())\n",
    "\n",
    "# Visualize after cleaning\n",
    "plt.figure(figsize=(6,2))\n",
    "plt.title(\"Missing Values After Cleaning\")\n",
    "plt.bar(['A', 'B'], [df['A'].isna().sum(), df['B'].isna().sum()])\n",
    "plt.show()"
   ]
  },
  {
   "cell_type": "markdown",
   "id": "ca449f47",
   "metadata": {},
   "source": [
    "## 2. Removing Duplicates"
   ]
  },
  {
   "cell_type": "code",
   "execution_count": 3,
   "id": "dced8365",
   "metadata": {},
   "outputs": [
    {
     "ename": "NameError",
     "evalue": "name 'pd' is not defined",
     "output_type": "error",
     "traceback": [
      "\u001b[31m---------------------------------------------------------------------------\u001b[39m",
      "\u001b[31mNameError\u001b[39m                                 Traceback (most recent call last)",
      "\u001b[36mCell\u001b[39m\u001b[36m \u001b[39m\u001b[32mIn[3]\u001b[39m\u001b[32m, line 2\u001b[39m\n\u001b[32m      1\u001b[39m \u001b[38;5;66;03m# Generate data with duplicates\u001b[39;00m\n\u001b[32m----> \u001b[39m\u001b[32m2\u001b[39m df = \u001b[43mpd\u001b[49m.DataFrame({\n\u001b[32m      3\u001b[39m     \u001b[33m'\u001b[39m\u001b[33mA\u001b[39m\u001b[33m'\u001b[39m: np.random.randint(\u001b[32m0\u001b[39m, \u001b[32m10\u001b[39m, \u001b[32m100\u001b[39m),\n\u001b[32m      4\u001b[39m     \u001b[33m'\u001b[39m\u001b[33mB\u001b[39m\u001b[33m'\u001b[39m: np.random.randint(\u001b[32m0\u001b[39m, \u001b[32m10\u001b[39m, \u001b[32m100\u001b[39m)\n\u001b[32m      5\u001b[39m })\n\u001b[32m      6\u001b[39m df = pd.concat([df, df.iloc[:\u001b[32m10\u001b[39m]], ignore_index=\u001b[38;5;28;01mTrue\u001b[39;00m)  \u001b[38;5;66;03m# Add duplicates\u001b[39;00m\n\u001b[32m      8\u001b[39m \u001b[38;5;66;03m# Visualize duplicates\u001b[39;00m\n",
      "\u001b[31mNameError\u001b[39m: name 'pd' is not defined"
     ]
    }
   ],
   "source": [
    "# Generate data with duplicates\n",
    "df = pd.DataFrame({\n",
    "    'A': np.random.randint(0, 10, 100),\n",
    "    'B': np.random.randint(0, 10, 100)\n",
    "})\n",
    "df = pd.concat([df, df.iloc[:10]], ignore_index=True)  # Add duplicates\n",
    "\n",
    "# Visualize duplicates\n",
    "plt.figure(figsize=(6,2))\n",
    "plt.title(\"Number of Rows Before Removing Duplicates\")\n",
    "plt.bar(['Rows'], [len(df)])\n",
    "plt.show()\n",
    "\n",
    "# Remove duplicates\n",
    "df_clean = df.drop_duplicates()\n",
    "\n",
    "plt.figure(figsize=(6,2))\n",
    "plt.title(\"Number of Rows After Removing Duplicates\")\n",
    "plt.bar(['Rows'], [len(df_clean)])\n",
    "plt.show()"
   ]
  },
  {
   "cell_type": "markdown",
   "id": "ef20b565",
   "metadata": {},
   "source": [
    "## 3. Converting Data Types"
   ]
  },
  {
   "cell_type": "code",
   "execution_count": null,
   "id": "ecedbf36",
   "metadata": {},
   "outputs": [],
   "source": [
    "# Generate data with wrong types\n",
    "df = pd.DataFrame({\n",
    "    'date': ['2025-08-26', '2025-08-27', '2025-08-28', 'not_a_date'],\n",
    "    'value': ['1', '2', 'three', '4']\n",
    "})\n",
    "\n",
    "# Before conversion\n",
    "plt.figure(figsize=(6,2))\n",
    "plt.title(\"Data Types Before Cleaning\")\n",
    "plt.bar(df.columns, [df[col].dtype == 'object' for col in df.columns])\n",
    "plt.show()\n",
    "\n",
    "# Convert types\n",
    "df['date'] = pd.to_datetime(df['date'], errors='coerce')\n",
    "df['value'] = pd.to_numeric(df['value'], errors='coerce')\n",
    "\n",
    "# After conversion\n",
    "plt.figure(figsize=(6,2))\n",
    "plt.title(\"Data Types After Cleaning\")\n",
    "plt.bar(df.columns, [df[col].dtype == 'object' for col in df.columns])\n",
    "plt.show()"
   ]
  },
  {
   "cell_type": "markdown",
   "id": "f1e380c0",
   "metadata": {},
   "source": [
    "## 4. Handling Outliers"
   ]
  },
  {
   "cell_type": "code",
   "execution_count": null,
   "id": "fe100a03",
   "metadata": {},
   "outputs": [],
   "source": [
    "# Generate data with outliers\n",
    "data = np.random.normal(50, 10, 100)\n",
    "data[::10] = 200  # Add outliers\n",
    "df = pd.DataFrame({'value': data})\n",
    "\n",
    "# Visualize before cleaning\n",
    "plt.figure(figsize=(6,2))\n",
    "plt.title(\"Boxplot Before Removing Outliers\")\n",
    "plt.boxplot(df['value'])\n",
    "plt.show()\n",
    "\n",
    "# Remove outliers\n",
    "q_low = df['value'].quantile(0.01)\n",
    "q_high = df['value'].quantile(0.99)\n",
    "df_clean = df[(df['value'] > q_low) & (df['value'] < q_high)]\n",
    "\n",
    "# Visualize after cleaning\n",
    "plt.figure(figsize=(6,2))\n",
    "plt.title(\"Boxplot After Removing Outliers\")\n",
    "plt.boxplot(df_clean['value'])\n",
    "plt.show()"
   ]
  },
  {
   "cell_type": "markdown",
   "id": "db79e352",
   "metadata": {},
   "source": [
    "## 5. Standardizing Text Data"
   ]
  },
  {
   "cell_type": "code",
   "execution_count": null,
   "id": "8ee976ed",
   "metadata": {},
   "outputs": [],
   "source": [
    "# Generate messy text data\n",
    "df = pd.DataFrame({\n",
    "    'city': ['New York', 'new york', 'NEW YORK', 'Los Angeles', 'los angeles', 'LOS ANGELES']\n",
    "})\n",
    "\n",
    "# Before cleaning\n",
    "plt.figure(figsize=(6,2))\n",
    "plt.title(\"City Value Counts Before Cleaning\")\n",
    "df['city'].value_counts().plot(kind='bar')\n",
    "plt.show()\n",
    "\n",
    "# Standardize text\n",
    "df['city'] = df['city'].str.lower().str.strip().str.title()\n",
    "\n",
    "# After cleaning\n",
    "plt.figure(figsize=(6,2))\n",
    "plt.title(\"City Value Counts After Cleaning\")\n",
    "df['city'].value_counts().plot(kind='bar')\n",
    "plt.show()"
   ]
  }
 ],
 "metadata": {
  "kernelspec": {
   "display_name": ".venv",
   "language": "python",
   "name": "python3"
  },
  "language_info": {
   "codemirror_mode": {
    "name": "ipython",
    "version": 3
   },
   "file_extension": ".py",
   "mimetype": "text/x-python",
   "name": "python",
   "nbconvert_exporter": "python",
   "pygments_lexer": "ipython3",
   "version": "3.12.10"
  }
 },
 "nbformat": 4,
 "nbformat_minor": 5
}
