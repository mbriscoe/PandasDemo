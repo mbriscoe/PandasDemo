{
 "cells": [
  {
   "cell_type": "markdown",
   "id": "566f6afc",
   "metadata": {},
   "source": [
    "# 📊 Pandas Examples with Visualizations\n",
    "Generated with random data."
   ]
  },
  {
   "cell_type": "code",
   "execution_count": null,
   "id": "532c24e2",
   "metadata": {},
   "outputs": [],
   "source": [
    "\n",
    "import pandas as pd\n",
    "import numpy as np\n",
    "import matplotlib.pyplot as plt"
   ]
  },
  {
   "cell_type": "markdown",
   "id": "55805c51",
   "metadata": {},
   "source": [
    "## Example 1: Student Grades Analysis"
   ]
  },
  {
   "cell_type": "code",
   "execution_count": null,
   "id": "90700c36",
   "metadata": {},
   "outputs": [],
   "source": [
    "\n",
    "students = ['Alice', 'Bob', 'Charlie', 'David', 'Eva']\n",
    "\n",
    "data = {\n",
    "    'Math': np.random.randint(60, 100, size=5),\n",
    "    'Science': np.random.randint(60, 100, size=5),\n",
    "    'English': np.random.randint(60, 100, size=5)\n",
    "}\n",
    "\n",
    "df = pd.DataFrame(data, index=students)\n",
    "\n",
    "df['Average'] = df.mean(axis=1)\n",
    "\n",
    "# Bar chart of average scores\n",
    "df['Average'].plot(kind='bar', title='Student Average Scores')\n",
    "plt.ylabel('Score')\n",
    "plt.xlabel('Student')\n",
    "plt.tight_layout()\n",
    "plt.show()\n",
    "df\n"
   ]
  },
  {
   "cell_type": "markdown",
   "id": "174be9d2",
   "metadata": {},
   "source": [
    "## Example 2: City Temperature Tracking"
   ]
  },
  {
   "cell_type": "code",
   "execution_count": null,
   "id": "6de3274e",
   "metadata": {},
   "outputs": [],
   "source": [
    "cities = ['London', 'Paris', 'Berlin']\n",
    "dates = pd.date_range(start='2025-08-01', periods=7)\n",
    "temp_data = {city: np.random.randint(15, 35, size=7) for city in cities}\n",
    "df = pd.DataFrame(temp_data, index=dates)\n",
    "df['Mean_Temp'] = df.mean(axis=1)\n",
    "\n",
    "# Line plot of temperatures\n",
    "df[cities].plot(title='City Temperatures Over Time')\n",
    "plt.ylabel('Temperature (°C)')\n",
    "plt.xlabel('Date')\n",
    "plt.tight_layout()\n",
    "plt.show()\n",
    "df\n"
   ]
  },
  {
   "cell_type": "markdown",
   "id": "7ff4cb92",
   "metadata": {},
   "source": [
    "## Example 3: Product Sales Summary"
   ]
  },
  {
   "cell_type": "code",
   "execution_count": null,
   "id": "8c2a1e90",
   "metadata": {},
   "outputs": [],
   "source": [
    "products = ['Pen', 'Notebook', 'Eraser', 'Ruler']\n",
    "\n",
    "data = {\n",
    "    'Units_Sold': np.random.randint(10, 100, size=4),\n",
    "    'Unit_Price': np.random.uniform(0.5, 5.0, size=4).round(2)\n",
    "}\n",
    "\n",
    "df = pd.DataFrame(data, index=products)\n",
    "\n",
    "df['Revenue'] = (df['Units_Sold'] * df['Unit_Price']).round(2)\n",
    "\n",
    "# Bar chart of revenue per product\n",
    "df['Revenue'].plot(kind='bar', title='Product Revenue')\n",
    "plt.ylabel('Revenue (£)')\n",
    "plt.xlabel('Product')\n",
    "plt.tight_layout()\n",
    "plt.show()\n",
    "df\n"
   ]
  },
  {
   "cell_type": "markdown",
   "id": "2e7345ff",
   "metadata": {},
   "source": [
    "## Example 4: Employee Attendance Analysis"
   ]
  },
  {
   "cell_type": "code",
   "execution_count": null,
   "id": "52990c25",
   "metadata": {},
   "outputs": [],
   "source": [
    "employees = ['John', 'Jane', 'Jim', 'Joan']\n",
    "\n",
    "days_present = np.random.randint(15, 31, size=4)\n",
    "\n",
    "df = pd.DataFrame({\n",
    "    'Days_Present': days_present,\n",
    "    'Total_Days': 31\n",
    "}, index=employees)\n",
    "\n",
    "df['Attendance_Rate'] = (df['Days_Present'] / df['Total_Days'] * 100).round(1)\n",
    "\n",
    "# Pie chart of attendance rates\n",
    "df['Attendance_Rate'].plot(kind='pie', autopct='%1.1f%%', title='Attendance Rate per Employee')\n",
    "plt.ylabel('')\n",
    "plt.tight_layout()\n",
    "plt.show()\n",
    "df\n"
   ]
  },
  {
   "cell_type": "markdown",
   "id": "9b71b516",
   "metadata": {},
   "source": [
    "## Example 5: Bank Transactions Overview"
   ]
  },
  {
   "cell_type": "code",
   "execution_count": null,
   "id": "1bca2bdc",
   "metadata": {},
   "outputs": [],
   "source": [
    "users = ['U1', 'U2', 'U3', 'U1', 'U2', 'U3', 'U1']\n",
    "\n",
    "df = pd.DataFrame({\n",
    "    'User': users,\n",
    "    'Amount': np.random.randint(-200, 500, size=len(users))\n",
    "})\n",
    "\n",
    "summary = df.groupby('User')['Amount'].sum()\n",
    "\n",
    "# Bar chart of total transaction amount per user\n",
    "summary.plot(kind='bar', title='Total Transactions by User')\n",
    "plt.ylabel('Total (£)')\n",
    "plt.xlabel('User')\n",
    "plt.tight_layout()\n",
    "plt.show()\n",
    "df, summary\n"
   ]
  }
 ],
 "metadata": {
  "kernelspec": {
   "display_name": ".venv",
   "language": "python",
   "name": "python3"
  },
  "language_info": {
   "codemirror_mode": {
    "name": "ipython",
    "version": 3
   },
   "file_extension": ".py",
   "mimetype": "text/x-python",
   "name": "python",
   "nbconvert_exporter": "python",
   "pygments_lexer": "ipython3",
   "version": "3.12.10"
  }
 },
 "nbformat": 4,
 "nbformat_minor": 5
}
